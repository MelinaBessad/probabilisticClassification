{
  "metadata": {
    "kernelspec": {
      "name": "python3",
      "display_name": "Python 3",
      "language": "python"
    },
    "associatedRecipe": "compute_verif_rappel_dataset",
    "creator": "M22TB02",
    "createdOn": 1665065331947,
    "tags": [
      "recipe-editor"
    ],
    "customFields": {},
    "hide_input": false,
    "toc": {
      "nav_menu": {},
      "number_sections": true,
      "sideBar": true,
      "skip_h1_title": false,
      "base_numbering": 1,
      "title_cell": "Table of Contents",
      "title_sidebar": "Contents",
      "toc_cell": false,
      "toc_position": {},
      "toc_section_display": true,
      "toc_window_display": false
    },
    "language_info": {
      "name": "python",
      "version": "3.6.8",
      "mimetype": "text/x-python",
      "codemirror_mode": {
        "name": "ipython",
        "version": 3
      },
      "pygments_lexer": "ipython3",
      "nbconvert_exporter": "python",
      "file_extension": ".py"
    },
    "varInspector": {
      "window_display": false,
      "cols": {
        "lenName": 16,
        "lenType": 16,
        "lenVar": 40
      },
      "kernels_config": {
        "python": {
          "library": "var_list.py",
          "delete_cmd_prefix": "del ",
          "delete_cmd_postfix": "",
          "varRefreshCmd": "print(var_dic_list())"
        },
        "r": {
          "library": "var_list.r",
          "delete_cmd_prefix": "rm(",
          "delete_cmd_postfix": ") ",
          "varRefreshCmd": "cat(var_dic_list()) "
        }
      },
      "types_to_exclude": [
        "module",
        "function",
        "builtin_function_or_method",
        "instance",
        "_Feature"
      ]
    },
    "modifiedBy": "M22TB02"
  },
  "nbformat": 4,
  "nbformat_minor": 1,
  "cells": [
    {
      "execution_count": 4,
      "cell_type": "code",
      "metadata": {
        "ExecuteTime": {
          "start_time": "2022-10-07T13:45:58.248544Z",
          "end_time": "2022-10-07T13:46:04.074784Z"
        }
      },
      "source": [
        "# -*- coding: utf-8 -*-\nimport dataiku\nimport pandas as pd, numpy as np\nfrom dataiku import pandasutils as pdu\n\n# Read recipe inputs\nsat_speech_meta_stock_distinct_1_filtered \u003d dataiku.Dataset(\"sat_speech_meta_stock_distinct_1_filtered\")\ndf_rappel \u003d sat_speech_meta_stock_distinct_1_filtered.get_dataframe()\n\n#reduire le dataset et ne prendre que les données ayant une satisfaction \u003c 7\n#ne garder que les clients insatisfaits\ndata \u003d df_rappel.where(df_rappel[\"SATISFACTION_GLOBALE\"]\u003c7)\n"
      ],
      "outputs": []
    },
    {
      "execution_count": 5,
      "cell_type": "code",
      "metadata": {
        "ExecuteTime": {
          "start_time": "2022-10-07T13:46:04.465526Z",
          "end_time": "2022-10-07T13:46:04.473963Z"
        }
      },
      "source": [
        "#supprimer les lignes Nulles, celles dont le rfap est NAN aussi\ndf_recall \u003d data.dropna(subset\u003d[\"rfap\"])"
      ],
      "outputs": []
    },
    {
      "execution_count": 6,
      "cell_type": "code",
      "metadata": {
        "ExecuteTime": {
          "start_time": "2022-10-07T13:46:05.075304Z",
          "end_time": "2022-10-07T13:46:05.125946Z"
        }
      },
      "source": [
        "df_recall.head()"
      ],
      "outputs": [
        {
          "output_type": "execute_result",
          "execution_count": 6,
          "data": {
            "text/plain": "              nom                    rfap          ID  SATISFACTION_GLOBALE             VERBATIM_SATISFACTION_GLOBALE_verbatim                     VERBATIM_AMELIORATION_verbatim                   domaine_acte                               famille_acte            objet_acte    id_client  RELATION_CONSEILLER Entité             Ressources  corbeille                      raison_sociale secteur          cid Date événement (heure locale)      site  ressource    siren_sat id_conseiller                                       text_diarise\n2  351530FDa90019  603514e2Den2a900000d04  66928330.0                   0.0  JE SUIS TRES ETONNEE de votre demande de satis...                                                NaN  GE -Vie du contrat Entreprise                                Résiliation    Défaut de paiement  415108992.0                  0.0     NN        FOURNIER Cécile        0.0                            BERENICE     RCE  415108992.0                    2021-02-24  INTELCIA        NaN  415108992.0            NN  Opérateur :  oui bonjour excusez-moi de vous d...\n3  34ff1fFEa40933  6034feb3Eur2a400039604  66928495.0                   0.0  AUCUN TRAITEMENT , ON PREND LES GENS POUR DES ...           METTRE DES GENS COMPETENT AU BOUT DU FIL     GE -Cotisations Entreprise                                     Compte             Situation  520388976.0                  0.0     NN        MAUILLON Lucile        0.0                             PARINOX     RCE  520388976.0                    2021-02-24       ANG        NaN  520388976.0            NN  Opérateur :  [pers.pre] bonjour que puis-je fa...\n4  3cb407FDa00461  603cb3abDen2a00001bc04  67131440.0                   1.0  parce que je demande une copie de contrat, et ...  de transmettre les bons documents du premier c...  GE -Vie du contrat Entreprise  Ddes Notices garanties, docs contractuels  Notice d\u0027information  402554968.0                  9.0     NN            PARE Sophie        0.0                            SCM MASI     RCE  402554968.0                    2021-03-02       ANG        NaN  402554968.0            NN  Opérateur :  je vous dis. Client : bonjour [pe...\n7  46410cFEa00247  604640cdEur2a00000f104  67319386.0                   0.0  a chaque fois que je demande à ce que m\u0027on rap...                                               TOUS     GE -Cotisations Entreprise                                     Compte             Situation  844921247.0                  0.0     NN        VIRAYIE Adeline        0.0           DMG MORI SPORTS MARKETING     RCE  844921247.0                    2021-03-09  INTELCIA        NaN  844921247.0            NN  Opérateur :  avenue bonjour que puis-je faire ...\n8  45efc5FEa40082  6045ef67Eur2a400004704  67319510.0                   0.0  Nous attendons une réponse à notre demande dep...  Délais de retour du service de gestion beaucou...     GE -Cotisations Entreprise                               Recouvrement       Mise en demeure  316345750.0                  7.0     NN  ALAMI MARROUNI Hanane        0.0  SOCIETE CIVILE DU DME DU CARRUBIER     RCE  316345750.0                    2021-03-09  INTELCIA        NaN  316345750.0            NN  Opérateur :  bonjour que puis-je faire pour vo...",
            "text/html": "\n            \u003cbutton style\u003d\"display:none\" \n            class\u003d\"btn btn-default ipython-export-btn\" \n            id\u003d\"btn-df-be0d0c79-0294-4e5e-819f-af1212cd219c\" \n            onclick\u003d\"_export_df(\u0027be0d0c79-0294-4e5e-819f-af1212cd219c\u0027)\"\u003e\n                Export dataframe\n            \u003c/button\u003e\n            \n            \u003cscript\u003e\n                \n                function _check_export_df_possible(dfid,yes_fn,no_fn) {\n                    console.log(\u0027Checking dataframe exportability...\u0027)\n                    if(!IPython || !IPython.notebook || !IPython.notebook.kernel || !IPython.notebook.kernel) {\n                        console.log(\u0027Export is not possible (IPython kernel is not available)\u0027)\n                        if(no_fn) {\n                            no_fn();\n                        }\n                    } else {\n                        var pythonCode \u003d \u0027from dataiku.notebook.export import IPythonExporter;IPythonExporter._check_export_stdout(\"\u0027+dfid+\u0027\")\u0027;\n                        IPython.notebook.kernel.execute(pythonCode,{iopub: {output: function(resp) {\n                            console.info(\"Exportability response\", resp);\n                            var size \u003d /^([0-9]+)x([0-9]+)$/.exec(resp.content.data || resp.content.text)\n                            if(!size) {\n                                console.log(\u0027Export is not possible (dataframe is not in-memory anymore)\u0027)\n                                if(no_fn) {\n                                    no_fn();\n                                }\n                            } else {\n                                console.log(\u0027Export is possible\u0027)\n                                if(yes_fn) {\n                                    yes_fn(1*size[1],1*size[2]);\n                                }\n                            }\n                        }}});\n                    }\n                }\n            \n                function _export_df(dfid) {\n                    \n                    var btn \u003d $(\u0027#btn-df-\u0027+dfid);\n                    var btns \u003d $(\u0027.ipython-export-btn\u0027);\n                    \n                    _check_export_df_possible(dfid,function() {\n                        \n                        window.parent.openExportModalFromIPython(\u0027Pandas dataframe\u0027,function(data) {\n                            btns.prop(\u0027disabled\u0027,true);\n                            btn.text(\u0027Exporting...\u0027);\n                            var command \u003d \u0027from dataiku.notebook.export import IPythonExporter;IPythonExporter._run_export(\"\u0027+dfid+\u0027\",\"\u0027+data.exportId+\u0027\")\u0027;\n                            var callback \u003d {iopub:{output: function(resp) {\n                                console.info(\"CB resp:\", resp);\n                                _check_export_df_possible(dfid,function(rows, cols) {\n                                    $(\u0027#btn-df-\u0027+dfid)\n                                        .css(\u0027display\u0027,\u0027inline-block\u0027)\n                                        .text(\u0027Export this dataframe (\u0027+rows+\u0027 rows, \u0027+cols+\u0027 cols)\u0027)\n                                        .prop(\u0027disabled\u0027,false);\n                                },function() {\n                                    $(\u0027#btn-df-\u0027+dfid).css(\u0027display\u0027,\u0027none\u0027);\n                                });\n                            }}};\n                            IPython.notebook.kernel.execute(command,callback,{silent:false}); // yes, silent now defaults to true. figures.\n                        });\n                    \n                    }, function(){\n                            alert(\u0027Unable to export : the Dataframe object is not loaded in memory\u0027);\n                            btn.css(\u0027display\u0027,\u0027none\u0027);\n                    });\n                    \n                }\n                \n                (function(dfid) {\n                \n                    var retryCount \u003d 10;\n                \n                    function is_valid_websock(s) {\n                        return s \u0026\u0026 s.readyState\u003d\u003d1;\n                    }\n                \n                    function check_conn() {\n                        \n                        if(!IPython || !IPython.notebook) {\n                            // Don\u0027t even try to go further\n                            return;\n                        }\n                        \n                        // Check if IPython is ready\n                        console.info(\"Checking conn ...\")\n                        if(IPython.notebook.kernel\n                        \u0026\u0026 IPython.notebook.kernel\n                        \u0026\u0026 is_valid_websock(IPython.notebook.kernel.ws)\n                        ) {\n                            \n                            _check_export_df_possible(dfid,function(rows, cols) {\n                                $(\u0027#btn-df-\u0027+dfid).css(\u0027display\u0027,\u0027inline-block\u0027);\n                                $(\u0027#btn-df-\u0027+dfid).text(\u0027Export this dataframe (\u0027+rows+\u0027 rows, \u0027+cols+\u0027 cols)\u0027);\n                            });\n                            \n                        } else {\n                            console.info(\"Conditions are not ok\", IPython.notebook.kernel);\n                            \n                            // Retry later\n                            \n                            if(retryCount\u003e0) {\n                                setTimeout(check_conn,500);\n                                retryCount--;\n                            }\n                            \n                        }\n                    };\n                    \n                    setTimeout(check_conn,100);\n                    \n                })(\"be0d0c79-0294-4e5e-819f-af1212cd219c\");\n                \n            \u003c/script\u003e\n            \n        \u003cdiv\u003e\n\u003cstyle scoped\u003e\n    .dataframe tbody tr th:only-of-type {\n        vertical-align: middle;\n    }\n\n    .dataframe tbody tr th {\n        vertical-align: top;\n    }\n\n    .dataframe thead th {\n        text-align: right;\n    }\n\u003c/style\u003e\n\u003ctable border\u003d\"1\" class\u003d\"dataframe\"\u003e\n  \u003cthead\u003e\n    \u003ctr style\u003d\"text-align: right;\"\u003e\n      \u003cth\u003e\u003c/th\u003e\n      \u003cth\u003enom\u003c/th\u003e\n      \u003cth\u003erfap\u003c/th\u003e\n      \u003cth\u003eID\u003c/th\u003e\n      \u003cth\u003eSATISFACTION_GLOBALE\u003c/th\u003e\n      \u003cth\u003eVERBATIM_SATISFACTION_GLOBALE_verbatim\u003c/th\u003e\n      \u003cth\u003eVERBATIM_AMELIORATION_verbatim\u003c/th\u003e\n      \u003cth\u003edomaine_acte\u003c/th\u003e\n      \u003cth\u003efamille_acte\u003c/th\u003e\n      \u003cth\u003eobjet_acte\u003c/th\u003e\n      \u003cth\u003eid_client\u003c/th\u003e\n      \u003cth\u003eRELATION_CONSEILLER\u003c/th\u003e\n      \u003cth\u003eEntité\u003c/th\u003e\n      \u003cth\u003eRessources\u003c/th\u003e\n      \u003cth\u003ecorbeille\u003c/th\u003e\n      \u003cth\u003eraison_sociale\u003c/th\u003e\n      \u003cth\u003esecteur\u003c/th\u003e\n      \u003cth\u003ecid\u003c/th\u003e\n      \u003cth\u003eDate événement (heure locale)\u003c/th\u003e\n      \u003cth\u003esite\u003c/th\u003e\n      \u003cth\u003eressource\u003c/th\u003e\n      \u003cth\u003esiren_sat\u003c/th\u003e\n      \u003cth\u003eid_conseiller\u003c/th\u003e\n      \u003cth\u003etext_diarise\u003c/th\u003e\n    \u003c/tr\u003e\n  \u003c/thead\u003e\n  \u003ctbody\u003e\n    \u003ctr\u003e\n      \u003cth\u003e2\u003c/th\u003e\n      \u003ctd\u003e351530FDa90019\u003c/td\u003e\n      \u003ctd\u003e603514e2Den2a900000d04\u003c/td\u003e\n      \u003ctd\u003e66928330.0\u003c/td\u003e\n      \u003ctd\u003e0.0\u003c/td\u003e\n      \u003ctd\u003eJE SUIS TRES ETONNEE de votre demande de satis...\u003c/td\u003e\n      \u003ctd\u003eNaN\u003c/td\u003e\n      \u003ctd\u003eGE -Vie du contrat Entreprise\u003c/td\u003e\n      \u003ctd\u003eRésiliation\u003c/td\u003e\n      \u003ctd\u003eDéfaut de paiement\u003c/td\u003e\n      \u003ctd\u003e415108992.0\u003c/td\u003e\n      \u003ctd\u003e0.0\u003c/td\u003e\n      \u003ctd\u003eNN\u003c/td\u003e\n      \u003ctd\u003eFOURNIER Cécile\u003c/td\u003e\n      \u003ctd\u003e0.0\u003c/td\u003e\n      \u003ctd\u003eBERENICE\u003c/td\u003e\n      \u003ctd\u003eRCE\u003c/td\u003e\n      \u003ctd\u003e415108992.0\u003c/td\u003e\n      \u003ctd\u003e2021-02-24\u003c/td\u003e\n      \u003ctd\u003eINTELCIA\u003c/td\u003e\n      \u003ctd\u003eNaN\u003c/td\u003e\n      \u003ctd\u003e415108992.0\u003c/td\u003e\n      \u003ctd\u003eNN\u003c/td\u003e\n      \u003ctd\u003eOpérateur :  oui bonjour excusez-moi de vous d...\u003c/td\u003e\n    \u003c/tr\u003e\n    \u003ctr\u003e\n      \u003cth\u003e3\u003c/th\u003e\n      \u003ctd\u003e34ff1fFEa40933\u003c/td\u003e\n      \u003ctd\u003e6034feb3Eur2a400039604\u003c/td\u003e\n      \u003ctd\u003e66928495.0\u003c/td\u003e\n      \u003ctd\u003e0.0\u003c/td\u003e\n      \u003ctd\u003eAUCUN TRAITEMENT , ON PREND LES GENS POUR DES ...\u003c/td\u003e\n      \u003ctd\u003eMETTRE DES GENS COMPETENT AU BOUT DU FIL\u003c/td\u003e\n      \u003ctd\u003eGE -Cotisations Entreprise\u003c/td\u003e\n      \u003ctd\u003eCompte\u003c/td\u003e\n      \u003ctd\u003eSituation\u003c/td\u003e\n      \u003ctd\u003e520388976.0\u003c/td\u003e\n      \u003ctd\u003e0.0\u003c/td\u003e\n      \u003ctd\u003eNN\u003c/td\u003e\n      \u003ctd\u003eMAUILLON Lucile\u003c/td\u003e\n      \u003ctd\u003e0.0\u003c/td\u003e\n      \u003ctd\u003ePARINOX\u003c/td\u003e\n      \u003ctd\u003eRCE\u003c/td\u003e\n      \u003ctd\u003e520388976.0\u003c/td\u003e\n      \u003ctd\u003e2021-02-24\u003c/td\u003e\n      \u003ctd\u003eANG\u003c/td\u003e\n      \u003ctd\u003eNaN\u003c/td\u003e\n      \u003ctd\u003e520388976.0\u003c/td\u003e\n      \u003ctd\u003eNN\u003c/td\u003e\n      \u003ctd\u003eOpérateur :  [pers.pre] bonjour que puis-je fa...\u003c/td\u003e\n    \u003c/tr\u003e\n    \u003ctr\u003e\n      \u003cth\u003e4\u003c/th\u003e\n      \u003ctd\u003e3cb407FDa00461\u003c/td\u003e\n      \u003ctd\u003e603cb3abDen2a00001bc04\u003c/td\u003e\n      \u003ctd\u003e67131440.0\u003c/td\u003e\n      \u003ctd\u003e1.0\u003c/td\u003e\n      \u003ctd\u003eparce que je demande une copie de contrat, et ...\u003c/td\u003e\n      \u003ctd\u003ede transmettre les bons documents du premier c...\u003c/td\u003e\n      \u003ctd\u003eGE -Vie du contrat Entreprise\u003c/td\u003e\n      \u003ctd\u003eDdes Notices garanties, docs contractuels\u003c/td\u003e\n      \u003ctd\u003eNotice d\u0027information\u003c/td\u003e\n      \u003ctd\u003e402554968.0\u003c/td\u003e\n      \u003ctd\u003e9.0\u003c/td\u003e\n      \u003ctd\u003eNN\u003c/td\u003e\n      \u003ctd\u003ePARE Sophie\u003c/td\u003e\n      \u003ctd\u003e0.0\u003c/td\u003e\n      \u003ctd\u003eSCM MASI\u003c/td\u003e\n      \u003ctd\u003eRCE\u003c/td\u003e\n      \u003ctd\u003e402554968.0\u003c/td\u003e\n      \u003ctd\u003e2021-03-02\u003c/td\u003e\n      \u003ctd\u003eANG\u003c/td\u003e\n      \u003ctd\u003eNaN\u003c/td\u003e\n      \u003ctd\u003e402554968.0\u003c/td\u003e\n      \u003ctd\u003eNN\u003c/td\u003e\n      \u003ctd\u003eOpérateur :  je vous dis. Client : bonjour [pe...\u003c/td\u003e\n    \u003c/tr\u003e\n    \u003ctr\u003e\n      \u003cth\u003e7\u003c/th\u003e\n      \u003ctd\u003e46410cFEa00247\u003c/td\u003e\n      \u003ctd\u003e604640cdEur2a00000f104\u003c/td\u003e\n      \u003ctd\u003e67319386.0\u003c/td\u003e\n      \u003ctd\u003e0.0\u003c/td\u003e\n      \u003ctd\u003ea chaque fois que je demande à ce que m\u0027on rap...\u003c/td\u003e\n      \u003ctd\u003eTOUS\u003c/td\u003e\n      \u003ctd\u003eGE -Cotisations Entreprise\u003c/td\u003e\n      \u003ctd\u003eCompte\u003c/td\u003e\n      \u003ctd\u003eSituation\u003c/td\u003e\n      \u003ctd\u003e844921247.0\u003c/td\u003e\n      \u003ctd\u003e0.0\u003c/td\u003e\n      \u003ctd\u003eNN\u003c/td\u003e\n      \u003ctd\u003eVIRAYIE Adeline\u003c/td\u003e\n      \u003ctd\u003e0.0\u003c/td\u003e\n      \u003ctd\u003eDMG MORI SPORTS MARKETING\u003c/td\u003e\n      \u003ctd\u003eRCE\u003c/td\u003e\n      \u003ctd\u003e844921247.0\u003c/td\u003e\n      \u003ctd\u003e2021-03-09\u003c/td\u003e\n      \u003ctd\u003eINTELCIA\u003c/td\u003e\n      \u003ctd\u003eNaN\u003c/td\u003e\n      \u003ctd\u003e844921247.0\u003c/td\u003e\n      \u003ctd\u003eNN\u003c/td\u003e\n      \u003ctd\u003eOpérateur :  avenue bonjour que puis-je faire ...\u003c/td\u003e\n    \u003c/tr\u003e\n    \u003ctr\u003e\n      \u003cth\u003e8\u003c/th\u003e\n      \u003ctd\u003e45efc5FEa40082\u003c/td\u003e\n      \u003ctd\u003e6045ef67Eur2a400004704\u003c/td\u003e\n      \u003ctd\u003e67319510.0\u003c/td\u003e\n      \u003ctd\u003e0.0\u003c/td\u003e\n      \u003ctd\u003eNous attendons une réponse à notre demande dep...\u003c/td\u003e\n      \u003ctd\u003eDélais de retour du service de gestion beaucou...\u003c/td\u003e\n      \u003ctd\u003eGE -Cotisations Entreprise\u003c/td\u003e\n      \u003ctd\u003eRecouvrement\u003c/td\u003e\n      \u003ctd\u003eMise en demeure\u003c/td\u003e\n      \u003ctd\u003e316345750.0\u003c/td\u003e\n      \u003ctd\u003e7.0\u003c/td\u003e\n      \u003ctd\u003eNN\u003c/td\u003e\n      \u003ctd\u003eALAMI MARROUNI Hanane\u003c/td\u003e\n      \u003ctd\u003e0.0\u003c/td\u003e\n      \u003ctd\u003eSOCIETE CIVILE DU DME DU CARRUBIER\u003c/td\u003e\n      \u003ctd\u003eRCE\u003c/td\u003e\n      \u003ctd\u003e316345750.0\u003c/td\u003e\n      \u003ctd\u003e2021-03-09\u003c/td\u003e\n      \u003ctd\u003eINTELCIA\u003c/td\u003e\n      \u003ctd\u003eNaN\u003c/td\u003e\n      \u003ctd\u003e316345750.0\u003c/td\u003e\n      \u003ctd\u003eNN\u003c/td\u003e\n      \u003ctd\u003eOpérateur :  bonjour que puis-je faire pour vo...\u003c/td\u003e\n    \u003c/tr\u003e\n  \u003c/tbody\u003e\n\u003c/table\u003e\n\u003c/div\u003e"
          },
          "metadata": {}
        }
      ]
    },
    {
      "execution_count": 45,
      "cell_type": "code",
      "metadata": {
        "ExecuteTime": {
          "start_time": "2022-10-06T15:48:17.731100Z",
          "end_time": "2022-10-06T15:48:17.735971Z"
        }
      },
      "source": [
        "#ajouter une fonction permettant de vérifier si un mot spécifique est présent dans un phrase\n#utiliser les expressions régulières\nimport re\n\ndef look_for_word_in_text(mot,text):\n    regex \u003d re.compile(\u0027.*\u0027+mot+\u0027.*\u0027, re.IGNORECASE)#regex contenant le rappel\n    return regex.match(text)!\u003dNone"
      ],
      "outputs": []
    },
    {
      "execution_count": 1,
      "cell_type": "code",
      "metadata": {
        "ExecuteTime": {
          "start_time": "2022-10-07T13:40:46.151469Z",
          "end_time": "2022-10-07T13:40:46.156083Z"
        }
      },
      "source": [
        "def verif_list_mot_in_text(liste,text): # vérifier si une suite de strings est dans un texte\n    Flag \u003d False\n    for m in liste:\n        if m in text:\n            Flag \u003d True\n            break #il suffit qu\u0027une seule suite de string existe dans le text\n    return Flag"
      ],
      "outputs": []
    },
    {
      "execution_count": 7,
      "cell_type": "code",
      "metadata": {
        "ExecuteTime": {
          "start_time": "2022-10-07T13:46:05.713841Z",
          "end_time": "2022-10-07T13:46:05.725664Z"
        }
      },
      "source": [
        "def check_recall(line):\n    \n    text1 \u003d line[\"VERBATIM_SATISFACTION_GLOBALE_verbatim\"]\n    text2 \u003d line[\"VERBATIM_AMELIORATION_verbatim\"]\n    words \u003d [\"rappel\",\"rappeler\",\"rappelé\",\"pas appelé\",\"rapele\"]\n    \n    if type(text1) \u003d\u003d float :\n        #ind \u003d look_for_word_in_text(\"rap\",text2)\n        ind \u003d verif_list_mot_in_text(words,text2)\n    elif type(text2) \u003d\u003d float :\n        #ind \u003d look_for_word_in_text(\"rap\",text1)\n        ind \u003d verif_list_mot_in_text(words,text1)\n    else : \n        ind \u003d  verif_list_mot_in_text(words,text1) or  verif_list_mot_in_text(words,text2)\n    if (ind\u003d\u003dFalse): #si la chaine n\u0027a pas été trouvé alors on l\u0027a rappelé\n        res \u003d \"oui\"\n    else : \n        res \u003d \"non\"\n    line[\"rappel\"] \u003d res\n    \n    return line"
      ],
      "outputs": []
    },
    {
      "execution_count": 8,
      "cell_type": "code",
      "metadata": {
        "ExecuteTime": {
          "start_time": "2022-10-07T13:46:06.246003Z",
          "end_time": "2022-10-07T13:46:09.321645Z"
        }
      },
      "source": [
        "data_new \u003d df_recall.apply(check_recall,axis\u003d1)"
      ],
      "outputs": []
    },
    {
      "execution_count": 15,
      "cell_type": "code",
      "metadata": {
        "ExecuteTime": {
          "start_time": "2022-10-07T13:51:38.935745Z",
          "end_time": "2022-10-07T13:51:38.968277Z"
        }
      },
      "source": [
        "data_new.head()"
      ],
      "outputs": [
        {
          "output_type": "execute_result",
          "execution_count": 15,
          "data": {
            "text/plain": "              nom                    rfap          ID  SATISFACTION_GLOBALE             VERBATIM_SATISFACTION_GLOBALE_verbatim                     VERBATIM_AMELIORATION_verbatim                   domaine_acte                               famille_acte            objet_acte    id_client  RELATION_CONSEILLER Entité             Ressources  corbeille                      raison_sociale secteur          cid Date événement (heure locale)      site  ressource    siren_sat id_conseiller                                       text_diarise rappel\n2  351530FDa90019  603514e2Den2a900000d04  66928330.0                   0.0  JE SUIS TRES ETONNEE de votre demande de satis...                                                NaN  GE -Vie du contrat Entreprise                                Résiliation    Défaut de paiement  415108992.0                  0.0     NN        FOURNIER Cécile        0.0                            BERENICE     RCE  415108992.0                    2021-02-24  INTELCIA        NaN  415108992.0            NN  Opérateur :  oui bonjour excusez-moi de vous d...    oui\n3  34ff1fFEa40933  6034feb3Eur2a400039604  66928495.0                   0.0  AUCUN TRAITEMENT , ON PREND LES GENS POUR DES ...           METTRE DES GENS COMPETENT AU BOUT DU FIL     GE -Cotisations Entreprise                                     Compte             Situation  520388976.0                  0.0     NN        MAUILLON Lucile        0.0                             PARINOX     RCE  520388976.0                    2021-02-24       ANG        NaN  520388976.0            NN  Opérateur :  [pers.pre] bonjour que puis-je fa...    oui\n4  3cb407FDa00461  603cb3abDen2a00001bc04  67131440.0                   1.0  parce que je demande une copie de contrat, et ...  de transmettre les bons documents du premier c...  GE -Vie du contrat Entreprise  Ddes Notices garanties, docs contractuels  Notice d\u0027information  402554968.0                  9.0     NN            PARE Sophie        0.0                            SCM MASI     RCE  402554968.0                    2021-03-02       ANG        NaN  402554968.0            NN  Opérateur :  je vous dis. Client : bonjour [pe...    oui\n7  46410cFEa00247  604640cdEur2a00000f104  67319386.0                   0.0  a chaque fois que je demande à ce que m\u0027on rap...                                               TOUS     GE -Cotisations Entreprise                                     Compte             Situation  844921247.0                  0.0     NN        VIRAYIE Adeline        0.0           DMG MORI SPORTS MARKETING     RCE  844921247.0                    2021-03-09  INTELCIA        NaN  844921247.0            NN  Opérateur :  avenue bonjour que puis-je faire ...    non\n8  45efc5FEa40082  6045ef67Eur2a400004704  67319510.0                   0.0  Nous attendons une réponse à notre demande dep...  Délais de retour du service de gestion beaucou...     GE -Cotisations Entreprise                               Recouvrement       Mise en demeure  316345750.0                  7.0     NN  ALAMI MARROUNI Hanane        0.0  SOCIETE CIVILE DU DME DU CARRUBIER     RCE  316345750.0                    2021-03-09  INTELCIA        NaN  316345750.0            NN  Opérateur :  bonjour que puis-je faire pour vo...    oui",
            "text/html": "\n            \u003cbutton style\u003d\"display:none\" \n            class\u003d\"btn btn-default ipython-export-btn\" \n            id\u003d\"btn-df-342ab517-a131-47ba-b887-99764ac2ec6f\" \n            onclick\u003d\"_export_df(\u0027342ab517-a131-47ba-b887-99764ac2ec6f\u0027)\"\u003e\n                Export dataframe\n            \u003c/button\u003e\n            \n            \u003cscript\u003e\n                \n                function _check_export_df_possible(dfid,yes_fn,no_fn) {\n                    console.log(\u0027Checking dataframe exportability...\u0027)\n                    if(!IPython || !IPython.notebook || !IPython.notebook.kernel || !IPython.notebook.kernel) {\n                        console.log(\u0027Export is not possible (IPython kernel is not available)\u0027)\n                        if(no_fn) {\n                            no_fn();\n                        }\n                    } else {\n                        var pythonCode \u003d \u0027from dataiku.notebook.export import IPythonExporter;IPythonExporter._check_export_stdout(\"\u0027+dfid+\u0027\")\u0027;\n                        IPython.notebook.kernel.execute(pythonCode,{iopub: {output: function(resp) {\n                            console.info(\"Exportability response\", resp);\n                            var size \u003d /^([0-9]+)x([0-9]+)$/.exec(resp.content.data || resp.content.text)\n                            if(!size) {\n                                console.log(\u0027Export is not possible (dataframe is not in-memory anymore)\u0027)\n                                if(no_fn) {\n                                    no_fn();\n                                }\n                            } else {\n                                console.log(\u0027Export is possible\u0027)\n                                if(yes_fn) {\n                                    yes_fn(1*size[1],1*size[2]);\n                                }\n                            }\n                        }}});\n                    }\n                }\n            \n                function _export_df(dfid) {\n                    \n                    var btn \u003d $(\u0027#btn-df-\u0027+dfid);\n                    var btns \u003d $(\u0027.ipython-export-btn\u0027);\n                    \n                    _check_export_df_possible(dfid,function() {\n                        \n                        window.parent.openExportModalFromIPython(\u0027Pandas dataframe\u0027,function(data) {\n                            btns.prop(\u0027disabled\u0027,true);\n                            btn.text(\u0027Exporting...\u0027);\n                            var command \u003d \u0027from dataiku.notebook.export import IPythonExporter;IPythonExporter._run_export(\"\u0027+dfid+\u0027\",\"\u0027+data.exportId+\u0027\")\u0027;\n                            var callback \u003d {iopub:{output: function(resp) {\n                                console.info(\"CB resp:\", resp);\n                                _check_export_df_possible(dfid,function(rows, cols) {\n                                    $(\u0027#btn-df-\u0027+dfid)\n                                        .css(\u0027display\u0027,\u0027inline-block\u0027)\n                                        .text(\u0027Export this dataframe (\u0027+rows+\u0027 rows, \u0027+cols+\u0027 cols)\u0027)\n                                        .prop(\u0027disabled\u0027,false);\n                                },function() {\n                                    $(\u0027#btn-df-\u0027+dfid).css(\u0027display\u0027,\u0027none\u0027);\n                                });\n                            }}};\n                            IPython.notebook.kernel.execute(command,callback,{silent:false}); // yes, silent now defaults to true. figures.\n                        });\n                    \n                    }, function(){\n                            alert(\u0027Unable to export : the Dataframe object is not loaded in memory\u0027);\n                            btn.css(\u0027display\u0027,\u0027none\u0027);\n                    });\n                    \n                }\n                \n                (function(dfid) {\n                \n                    var retryCount \u003d 10;\n                \n                    function is_valid_websock(s) {\n                        return s \u0026\u0026 s.readyState\u003d\u003d1;\n                    }\n                \n                    function check_conn() {\n                        \n                        if(!IPython || !IPython.notebook) {\n                            // Don\u0027t even try to go further\n                            return;\n                        }\n                        \n                        // Check if IPython is ready\n                        console.info(\"Checking conn ...\")\n                        if(IPython.notebook.kernel\n                        \u0026\u0026 IPython.notebook.kernel\n                        \u0026\u0026 is_valid_websock(IPython.notebook.kernel.ws)\n                        ) {\n                            \n                            _check_export_df_possible(dfid,function(rows, cols) {\n                                $(\u0027#btn-df-\u0027+dfid).css(\u0027display\u0027,\u0027inline-block\u0027);\n                                $(\u0027#btn-df-\u0027+dfid).text(\u0027Export this dataframe (\u0027+rows+\u0027 rows, \u0027+cols+\u0027 cols)\u0027);\n                            });\n                            \n                        } else {\n                            console.info(\"Conditions are not ok\", IPython.notebook.kernel);\n                            \n                            // Retry later\n                            \n                            if(retryCount\u003e0) {\n                                setTimeout(check_conn,500);\n                                retryCount--;\n                            }\n                            \n                        }\n                    };\n                    \n                    setTimeout(check_conn,100);\n                    \n                })(\"342ab517-a131-47ba-b887-99764ac2ec6f\");\n                \n            \u003c/script\u003e\n            \n        \u003cdiv\u003e\n\u003cstyle scoped\u003e\n    .dataframe tbody tr th:only-of-type {\n        vertical-align: middle;\n    }\n\n    .dataframe tbody tr th {\n        vertical-align: top;\n    }\n\n    .dataframe thead th {\n        text-align: right;\n    }\n\u003c/style\u003e\n\u003ctable border\u003d\"1\" class\u003d\"dataframe\"\u003e\n  \u003cthead\u003e\n    \u003ctr style\u003d\"text-align: right;\"\u003e\n      \u003cth\u003e\u003c/th\u003e\n      \u003cth\u003enom\u003c/th\u003e\n      \u003cth\u003erfap\u003c/th\u003e\n      \u003cth\u003eID\u003c/th\u003e\n      \u003cth\u003eSATISFACTION_GLOBALE\u003c/th\u003e\n      \u003cth\u003eVERBATIM_SATISFACTION_GLOBALE_verbatim\u003c/th\u003e\n      \u003cth\u003eVERBATIM_AMELIORATION_verbatim\u003c/th\u003e\n      \u003cth\u003edomaine_acte\u003c/th\u003e\n      \u003cth\u003efamille_acte\u003c/th\u003e\n      \u003cth\u003eobjet_acte\u003c/th\u003e\n      \u003cth\u003eid_client\u003c/th\u003e\n      \u003cth\u003eRELATION_CONSEILLER\u003c/th\u003e\n      \u003cth\u003eEntité\u003c/th\u003e\n      \u003cth\u003eRessources\u003c/th\u003e\n      \u003cth\u003ecorbeille\u003c/th\u003e\n      \u003cth\u003eraison_sociale\u003c/th\u003e\n      \u003cth\u003esecteur\u003c/th\u003e\n      \u003cth\u003ecid\u003c/th\u003e\n      \u003cth\u003eDate événement (heure locale)\u003c/th\u003e\n      \u003cth\u003esite\u003c/th\u003e\n      \u003cth\u003eressource\u003c/th\u003e\n      \u003cth\u003esiren_sat\u003c/th\u003e\n      \u003cth\u003eid_conseiller\u003c/th\u003e\n      \u003cth\u003etext_diarise\u003c/th\u003e\n      \u003cth\u003erappel\u003c/th\u003e\n    \u003c/tr\u003e\n  \u003c/thead\u003e\n  \u003ctbody\u003e\n    \u003ctr\u003e\n      \u003cth\u003e2\u003c/th\u003e\n      \u003ctd\u003e351530FDa90019\u003c/td\u003e\n      \u003ctd\u003e603514e2Den2a900000d04\u003c/td\u003e\n      \u003ctd\u003e66928330.0\u003c/td\u003e\n      \u003ctd\u003e0.0\u003c/td\u003e\n      \u003ctd\u003eJE SUIS TRES ETONNEE de votre demande de satis...\u003c/td\u003e\n      \u003ctd\u003eNaN\u003c/td\u003e\n      \u003ctd\u003eGE -Vie du contrat Entreprise\u003c/td\u003e\n      \u003ctd\u003eRésiliation\u003c/td\u003e\n      \u003ctd\u003eDéfaut de paiement\u003c/td\u003e\n      \u003ctd\u003e415108992.0\u003c/td\u003e\n      \u003ctd\u003e0.0\u003c/td\u003e\n      \u003ctd\u003eNN\u003c/td\u003e\n      \u003ctd\u003eFOURNIER Cécile\u003c/td\u003e\n      \u003ctd\u003e0.0\u003c/td\u003e\n      \u003ctd\u003eBERENICE\u003c/td\u003e\n      \u003ctd\u003eRCE\u003c/td\u003e\n      \u003ctd\u003e415108992.0\u003c/td\u003e\n      \u003ctd\u003e2021-02-24\u003c/td\u003e\n      \u003ctd\u003eINTELCIA\u003c/td\u003e\n      \u003ctd\u003eNaN\u003c/td\u003e\n      \u003ctd\u003e415108992.0\u003c/td\u003e\n      \u003ctd\u003eNN\u003c/td\u003e\n      \u003ctd\u003eOpérateur :  oui bonjour excusez-moi de vous d...\u003c/td\u003e\n      \u003ctd\u003eoui\u003c/td\u003e\n    \u003c/tr\u003e\n    \u003ctr\u003e\n      \u003cth\u003e3\u003c/th\u003e\n      \u003ctd\u003e34ff1fFEa40933\u003c/td\u003e\n      \u003ctd\u003e6034feb3Eur2a400039604\u003c/td\u003e\n      \u003ctd\u003e66928495.0\u003c/td\u003e\n      \u003ctd\u003e0.0\u003c/td\u003e\n      \u003ctd\u003eAUCUN TRAITEMENT , ON PREND LES GENS POUR DES ...\u003c/td\u003e\n      \u003ctd\u003eMETTRE DES GENS COMPETENT AU BOUT DU FIL\u003c/td\u003e\n      \u003ctd\u003eGE -Cotisations Entreprise\u003c/td\u003e\n      \u003ctd\u003eCompte\u003c/td\u003e\n      \u003ctd\u003eSituation\u003c/td\u003e\n      \u003ctd\u003e520388976.0\u003c/td\u003e\n      \u003ctd\u003e0.0\u003c/td\u003e\n      \u003ctd\u003eNN\u003c/td\u003e\n      \u003ctd\u003eMAUILLON Lucile\u003c/td\u003e\n      \u003ctd\u003e0.0\u003c/td\u003e\n      \u003ctd\u003ePARINOX\u003c/td\u003e\n      \u003ctd\u003eRCE\u003c/td\u003e\n      \u003ctd\u003e520388976.0\u003c/td\u003e\n      \u003ctd\u003e2021-02-24\u003c/td\u003e\n      \u003ctd\u003eANG\u003c/td\u003e\n      \u003ctd\u003eNaN\u003c/td\u003e\n      \u003ctd\u003e520388976.0\u003c/td\u003e\n      \u003ctd\u003eNN\u003c/td\u003e\n      \u003ctd\u003eOpérateur :  [pers.pre] bonjour que puis-je fa...\u003c/td\u003e\n      \u003ctd\u003eoui\u003c/td\u003e\n    \u003c/tr\u003e\n    \u003ctr\u003e\n      \u003cth\u003e4\u003c/th\u003e\n      \u003ctd\u003e3cb407FDa00461\u003c/td\u003e\n      \u003ctd\u003e603cb3abDen2a00001bc04\u003c/td\u003e\n      \u003ctd\u003e67131440.0\u003c/td\u003e\n      \u003ctd\u003e1.0\u003c/td\u003e\n      \u003ctd\u003eparce que je demande une copie de contrat, et ...\u003c/td\u003e\n      \u003ctd\u003ede transmettre les bons documents du premier c...\u003c/td\u003e\n      \u003ctd\u003eGE -Vie du contrat Entreprise\u003c/td\u003e\n      \u003ctd\u003eDdes Notices garanties, docs contractuels\u003c/td\u003e\n      \u003ctd\u003eNotice d\u0027information\u003c/td\u003e\n      \u003ctd\u003e402554968.0\u003c/td\u003e\n      \u003ctd\u003e9.0\u003c/td\u003e\n      \u003ctd\u003eNN\u003c/td\u003e\n      \u003ctd\u003ePARE Sophie\u003c/td\u003e\n      \u003ctd\u003e0.0\u003c/td\u003e\n      \u003ctd\u003eSCM MASI\u003c/td\u003e\n      \u003ctd\u003eRCE\u003c/td\u003e\n      \u003ctd\u003e402554968.0\u003c/td\u003e\n      \u003ctd\u003e2021-03-02\u003c/td\u003e\n      \u003ctd\u003eANG\u003c/td\u003e\n      \u003ctd\u003eNaN\u003c/td\u003e\n      \u003ctd\u003e402554968.0\u003c/td\u003e\n      \u003ctd\u003eNN\u003c/td\u003e\n      \u003ctd\u003eOpérateur :  je vous dis. Client : bonjour [pe...\u003c/td\u003e\n      \u003ctd\u003eoui\u003c/td\u003e\n    \u003c/tr\u003e\n    \u003ctr\u003e\n      \u003cth\u003e7\u003c/th\u003e\n      \u003ctd\u003e46410cFEa00247\u003c/td\u003e\n      \u003ctd\u003e604640cdEur2a00000f104\u003c/td\u003e\n      \u003ctd\u003e67319386.0\u003c/td\u003e\n      \u003ctd\u003e0.0\u003c/td\u003e\n      \u003ctd\u003ea chaque fois que je demande à ce que m\u0027on rap...\u003c/td\u003e\n      \u003ctd\u003eTOUS\u003c/td\u003e\n      \u003ctd\u003eGE -Cotisations Entreprise\u003c/td\u003e\n      \u003ctd\u003eCompte\u003c/td\u003e\n      \u003ctd\u003eSituation\u003c/td\u003e\n      \u003ctd\u003e844921247.0\u003c/td\u003e\n      \u003ctd\u003e0.0\u003c/td\u003e\n      \u003ctd\u003eNN\u003c/td\u003e\n      \u003ctd\u003eVIRAYIE Adeline\u003c/td\u003e\n      \u003ctd\u003e0.0\u003c/td\u003e\n      \u003ctd\u003eDMG MORI SPORTS MARKETING\u003c/td\u003e\n      \u003ctd\u003eRCE\u003c/td\u003e\n      \u003ctd\u003e844921247.0\u003c/td\u003e\n      \u003ctd\u003e2021-03-09\u003c/td\u003e\n      \u003ctd\u003eINTELCIA\u003c/td\u003e\n      \u003ctd\u003eNaN\u003c/td\u003e\n      \u003ctd\u003e844921247.0\u003c/td\u003e\n      \u003ctd\u003eNN\u003c/td\u003e\n      \u003ctd\u003eOpérateur :  avenue bonjour que puis-je faire ...\u003c/td\u003e\n      \u003ctd\u003enon\u003c/td\u003e\n    \u003c/tr\u003e\n    \u003ctr\u003e\n      \u003cth\u003e8\u003c/th\u003e\n      \u003ctd\u003e45efc5FEa40082\u003c/td\u003e\n      \u003ctd\u003e6045ef67Eur2a400004704\u003c/td\u003e\n      \u003ctd\u003e67319510.0\u003c/td\u003e\n      \u003ctd\u003e0.0\u003c/td\u003e\n      \u003ctd\u003eNous attendons une réponse à notre demande dep...\u003c/td\u003e\n      \u003ctd\u003eDélais de retour du service de gestion beaucou...\u003c/td\u003e\n      \u003ctd\u003eGE -Cotisations Entreprise\u003c/td\u003e\n      \u003ctd\u003eRecouvrement\u003c/td\u003e\n      \u003ctd\u003eMise en demeure\u003c/td\u003e\n      \u003ctd\u003e316345750.0\u003c/td\u003e\n      \u003ctd\u003e7.0\u003c/td\u003e\n      \u003ctd\u003eNN\u003c/td\u003e\n      \u003ctd\u003eALAMI MARROUNI Hanane\u003c/td\u003e\n      \u003ctd\u003e0.0\u003c/td\u003e\n      \u003ctd\u003eSOCIETE CIVILE DU DME DU CARRUBIER\u003c/td\u003e\n      \u003ctd\u003eRCE\u003c/td\u003e\n      \u003ctd\u003e316345750.0\u003c/td\u003e\n      \u003ctd\u003e2021-03-09\u003c/td\u003e\n      \u003ctd\u003eINTELCIA\u003c/td\u003e\n      \u003ctd\u003eNaN\u003c/td\u003e\n      \u003ctd\u003e316345750.0\u003c/td\u003e\n      \u003ctd\u003eNN\u003c/td\u003e\n      \u003ctd\u003eOpérateur :  bonjour que puis-je faire pour vo...\u003c/td\u003e\n      \u003ctd\u003eoui\u003c/td\u003e\n    \u003c/tr\u003e\n  \u003c/tbody\u003e\n\u003c/table\u003e\n\u003c/div\u003e"
          },
          "metadata": {}
        }
      ]
    },
    {
      "execution_count": 0,
      "cell_type": "code",
      "metadata": {
        "ExecuteTime": {
          "start_time": "2022-10-07T13:51:50.715Z"
        }
      },
      "source": [
        "##pour créer des datasets de sortie\nverif_rappel_dataset_df \u003d data_new # For this sample code, simply copy input to output\n# Write recipe outputs\nverif_rappel_dataset \u003d dataiku.Dataset(\"verif_rappel_dataset\")\nverif_rappel_dataset.write_with_schema(verif_rappel_dataset_df)"
      ],
      "outputs": []
    },
    {
      "execution_count": 0,
      "cell_type": "code",
      "metadata": {},
      "source": [
        ""
      ],
      "outputs": []
    }
  ]
}